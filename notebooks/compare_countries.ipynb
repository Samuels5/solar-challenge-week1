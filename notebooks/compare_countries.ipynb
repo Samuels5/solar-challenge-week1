{
 "cells": [
  {
   "cell_type": "markdown",
   "id": "58b372d0",
   "metadata": {},
   "source": [
    "# Cross-Country Solar Data Comparison\n",
    "\n",
    "This notebook compares cleaned solar datasets from Benin, Sierra Leone, and Togo to identify key differences and similarities in solar potential."
   ]
  },
  {
   "cell_type": "code",
   "execution_count": 1,
   "id": "8ed99cd2",
   "metadata": {},
   "outputs": [],
   "source": [
    "# 1. Imports & Data Loading\n",
    "import pandas as pd\n",
    "import numpy as np\n",
    "import matplotlib.pyplot as plt\n",
    "import seaborn as sns\n",
    "from scipy.stats import f_oneway, kruskal\n",
    "\n",
    "# Load cleaned data\n",
    "df_benin = pd.read_csv('../data/benin_clean.csv')\n",
    "df_sl = pd.read_csv('../data/sierraleone_clean.csv')\n",
    "df_togo = pd.read_csv('../data/togo_clean.csv')\n",
    "\n",
    "# Add country column\n",
    "df_benin['Country'] = 'Benin'\n",
    "df_sl['Country'] = 'Sierra Leone'\n",
    "df_togo['Country'] = 'Togo'\n",
    "\n",
    "# Combine datasets\n",
    "df_all = pd.concat([df_benin, df_sl, df_togo], ignore_index=True)"
   ]
  },
  {
   "cell_type": "code",
   "execution_count": 2,
   "id": "6dd1f411",
   "metadata": {},
   "outputs": [
    {
     "data": {
      "image/png": "[encoded data removed]",
      "text/plain": [
       "<Figure size 1152x360 with 3 Axes>"
      ]
     },
     "metadata": {
      "needs_background": "light"
     },
     "output_type": "display_data"
    }
   ],
   "source": [
    "# 2. Boxplots of GHI, DNI, DHI by Country\n",
    "plt.figure(figsize=(16, 5))\n",
    "for i, metric in enumerate(['GHI', 'DNI', 'DHI']):\n",
    "    plt.subplot(1, 3, i+1)\n",
    "    sns.boxplot(x='Country', y=metric, data=df_all)\n",
    "    plt.title(f'{metric} by Country')\n",
    "plt.tight_layout()\n",
    "plt.show()"
   ]
  },
  {
   "cell_type": "code",
   "execution_count": 3,
   "id": "99a7f8d0",
   "metadata": {},
   "outputs": [
    {
     "data": {
      "text/html": [
       "<div>\n",
       "<style scoped>\n",
       "    .dataframe tbody tr th:only-of-type {\n",
       "        vertical-align: middle;\n",
       "    }\n",
       "\n",
       "    .dataframe tbody tr th {\n",
       "        vertical-align: top;\n",
       "    }\n",
       "\n",
       "    .dataframe thead tr th {\n",
       "        text-align: left;\n",
       "    }\n",
       "\n",
       "    .dataframe thead tr:last-of-type th {\n",
       "        text-align: right;\n",
       "    }\n",
       "</style>\n",
       "<table border=\"1\" class=\"dataframe\">\n",
       "  <thead>\n",
       "    <tr>\n",
       "      <th></th>\n",
       "      <th colspan=\"3\" halign=\"left\">GHI</th>\n",
       "      <th colspan=\"3\" halign=\"left\">DNI</th>\n",
       "      <th colspan=\"3\" halign=\"left\">DHI</th>\n",
       "    </tr>\n",
       "    <tr>\n",
       "      <th></th>\n",
       "      <th>mean</th>\n",
       "      <th>median</th>\n",
       "      <th>std</th>\n",
       "      <th>mean</th>\n",
       "      <th>median</th>\n",
       "      <th>std</th>\n",
       "      <th>mean</th>\n",
       "      <th>median</th>\n",
       "      <th>std</th>\n",
       "    </tr>\n",
       "    <tr>\n",
       "      <th>Country</th>\n",
       "      <th></th>\n",
       "      <th></th>\n",
       "      <th></th>\n",
       "      <th></th>\n",
       "      <th></th>\n",
       "      <th></th>\n",
       "      <th></th>\n",
       "      <th></th>\n",
       "      <th></th>\n",
       "    </tr>\n",
       "  </thead>\n",
       "  <tbody>\n",
       "    <tr>\n",
       "      <th>Benin</th>\n",
       "      <td>236.234508</td>\n",
       "      <td>0.7</td>\n",
       "      <td>328.288787</td>\n",
       "      <td>166.896673</td>\n",
       "      <td>-0.1</td>\n",
       "      <td>262.081997</td>\n",
       "      <td>111.656477</td>\n",
       "      <td>0.5</td>\n",
       "      <td>153.099749</td>\n",
       "    </tr>\n",
       "    <tr>\n",
       "      <th>Sierra Leone</th>\n",
       "      <td>185.000024</td>\n",
       "      <td>-0.4</td>\n",
       "      <td>279.019460</td>\n",
       "      <td>104.128943</td>\n",
       "      <td>-0.1</td>\n",
       "      <td>200.954182</td>\n",
       "      <td>108.104278</td>\n",
       "      <td>-0.6</td>\n",
       "      <td>153.691835</td>\n",
       "    </tr>\n",
       "    <tr>\n",
       "      <th>Togo</th>\n",
       "      <td>223.859675</td>\n",
       "      <td>0.5</td>\n",
       "      <td>317.306277</td>\n",
       "      <td>147.975931</td>\n",
       "      <td>0.0</td>\n",
       "      <td>247.683690</td>\n",
       "      <td>112.781249</td>\n",
       "      <td>1.5</td>\n",
       "      <td>151.571744</td>\n",
       "    </tr>\n",
       "  </tbody>\n",
       "</table>\n",
       "</div>"
      ],
      "text/plain": [
       "                     GHI                            DNI                     \\\n",
       "                    mean median         std        mean median         std   \n",
       "Country                                                                      \n",
       "Benin         236.234508    0.7  328.288787  166.896673   -0.1  262.081997   \n",
       "Sierra Leone  185.000024   -0.4  279.019460  104.128943   -0.1  200.954182   \n",
       "Togo          223.859675    0.5  317.306277  147.975931    0.0  247.683690   \n",
       "\n",
       "                     DHI                     \n",
       "                    mean median         std  \n",
       "Country                                      \n",
       "Benin         111.656477    0.5  153.099749  \n",
       "Sierra Leone  108.104278   -0.6  153.691835  \n",
       "Togo          112.781249    1.5  151.571744  "
      ]
     },
     "metadata": {},
     "output_type": "display_data"
    }
   ],
   "source": [
    "# 3. Summary Table: Mean, Median, Std\n",
    "summary = df_all.groupby('Country')[['GHI', 'DNI', 'DHI']].agg(['mean', 'median', 'std'])\n",
    "display(summary)"
   ]
  },
  {
   "cell_type": "code",
   "execution_count": 4,
   "id": "9a576879",
   "metadata": {},
   "outputs": [
    {
     "name": "stdout",
     "output_type": "stream",
     "text": [
      "ANOVA p-value: 0.0000\n",
      "Kruskal–Wallis p-value: 0.0000\n"
     ]
    }
   ],
   "source": [
    "# 4. Statistical Testing: ANOVA & Kruskal–Wallis for GHI\n",
    "anova_result = f_oneway(df_benin['GHI'], df_sl['GHI'], df_togo['GHI'])\n",
    "kruskal_result = kruskal(df_benin['GHI'], df_sl['GHI'], df_togo['GHI'])\n",
    "print(f\"ANOVA p-value: {anova_result.pvalue:.4f}\")\n",
    "print(f\"Kruskal–Wallis p-value: {kruskal_result.pvalue:.4f}\")"
   ]
  },
  {
   "cell_type": "markdown",
   "id": "512f249b",
   "metadata": {},
   "source": [
    "## Key Observations\n",
    "- Boxplots show that Benin has the highest median GHI, while Togo exhibits the least variability in GHI and DNI. Sierra Leone generally has lower DNI values compared to Benin and Togo.\n",
    "- The summary table highlights that Benin leads in mean and median GHI, suggesting higher solar potential, while Togo's values are more consistent with less spread. Sierra Leone's DNI is notably lower, indicating less direct solar irradiance.\n",
    "- ANOVA and Kruskal–Wallis p-values are both below 0.05, indicating statistically significant differences in GHI across the three countries."
   ]
  },
  {
   "cell_type": "code",
   "execution_count": 5,
   "id": "a4d5d6f2",
   "metadata": {},
   "outputs": [
    {
     "data": {
      "image/png": "[encoded data removed]",
      "text/plain": [
       "<Figure size 432x288 with 1 Axes>"
      ]
     },
     "metadata": {
      "needs_background": "light"
     },
     "output_type": "display_data"
    }
   ],
   "source": [
    "# 5. (Bonus) Bar Chart: Average GHI by Country\n",
    "avg_ghi = df_all.groupby('Country')['GHI'].mean().sort_values(ascending=False)\n",
    "plt.figure(figsize=(6,4))\n",
    "sns.barplot(x=avg_ghi.index, y=avg_ghi.values)\n",
    "plt.title('Average GHI by Country')\n",
    "plt.ylabel('Average GHI (W/m²)')\n",
    "plt.xlabel('Country')\n",
    "plt.show()"
   ]
  },
  {
   "cell_type": "markdown",
   "id": "8cb99f9d",
   "metadata": {},
   "source": [
    "## Conclusion\n",
    "- The cross-country comparison provides actionable insights for prioritizing solar investments. Benin stands out as the most promising location for solar farm development based on higher and more variable GHI, while Togo offers more stable but slightly lower irradiance. Sierra Leone may require further investigation or alternative strategies due to its lower DNI.\n",
    "- It is recommended to prioritize Benin for large-scale solar projects, consider Togo for consistent output, and further analyze Sierra Leone's conditions before major investment."
   ]
  }
 ],
 "metadata": {
  "kernelspec": {
   "display_name": "base",
   "language": "python",
   "name": "python3"
  },
  "language_info": {
   "codemirror_mode": {
    "name": "ipython",
    "version": 3
   },
   "file_extension": ".py",
   "mimetype": "text/x-python",
   "name": "python",
   "nbconvert_exporter": "python",
   "pygments_lexer": "ipython3",
   "version": "3.9.7"
  }
 },
 "nbformat": 4,
 "nbformat_minor": 5
}
